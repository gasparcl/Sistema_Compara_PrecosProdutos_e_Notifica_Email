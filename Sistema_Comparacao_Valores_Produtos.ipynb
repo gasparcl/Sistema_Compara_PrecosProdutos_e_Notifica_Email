{
 "cells": [
  {
   "cell_type": "markdown",
   "metadata": {},
   "source": [
    "## Projeto automação Web - Busca de desconto em produtos e Notificação por e-mail:"
   ]
  },
  {
   "cell_type": "code",
   "execution_count": 1,
   "metadata": {},
   "outputs": [
    {
     "name": "stdout",
     "output_type": "stream",
     "text": [
      "Fim da Análise.\n"
     ]
    }
   ],
   "source": [
    "#Importando Bibliotecas:\n",
    "import pandas as pd\n",
    "from selenium import webdriver\n",
    "import win32com.client as win32\n",
    "\n",
    "#Acessando os links em excel e criando a tabela:\n",
    "produtos = pd.read_excel(r'Produtos.xlsx')\n",
    "produtos = produtos.fillna('-')\n",
    "\n",
    "#Criando uma função de tratamento de texto:\n",
    "def transformar_texto(texto):\n",
    "    return float(texto.replace('R$', '').replace('.', '').replace(',', '.'))\n",
    "\n",
    "#Foi utilizado o comando driver.set_window_position(-10000,0), para que posicione o navegador fora da tela, pois\n",
    "#o parâmetro ChromeOptions('--headless') não funciona para todas as páginas:\n",
    "driver = webdriver.Chrome()\n",
    "driver.set_window_position(-10000,0)\n",
    "\n",
    "enviar_email = False\n",
    "desconto_min = 0.2\n",
    "\n",
    "#Automatizando o código para todos os produtos e links:\n",
    "for i, linha in produtos.iterrows():\n",
    "    #Pegar preço Amazon:\n",
    "    driver.get(linha['Amazon'])\n",
    "    try:\n",
    "        preco_amazon = driver.find_element_by_class_name('a-size-base.a-color-price').text\n",
    "        preco_amazon = transformar_texto(preco_amazon)\n",
    "    except:\n",
    "        print('Produto {} não disponível na Amazon'.format(linha['Link Produto']))\n",
    "        preco_amazon = linha['Preço Original'] * 3\n",
    "\n",
    "    #Pegar preço LAME:\n",
    "    driver.get(linha['Lojas Americanas'])\n",
    "    try:\n",
    "        preco_lame = driver.find_element_by_class_name('src__BestPrice-sc-1jvw02c-5.cBWOIB.priceSales').text\n",
    "        preco_lame = transformar_texto(preco_lame)\n",
    "    except:\n",
    "        print('Produto {} não disponível nas Lojas Americanas'.format(linha['Link Produto']))      \n",
    "        preco_lame = linha['Preço Original'] * 3\n",
    "        \n",
    "    #Pegar preço MGLU:\n",
    "    driver.get(linha['Magazine Luiza'])\n",
    "    try:\n",
    "        preco_mglu = driver.find_element_by_class_name('price-template__text').text\n",
    "        preco_mglu = transformar_texto(preco_mglu)\n",
    "    except:\n",
    "        print('Produto {} não disponível na Magazine Luiza'.format(linha['Link Produto']))\n",
    "        preco_mglu = linha['Preço Original'] * 3\n",
    "        \n",
    "    preco_original = linha['Preço Original']\n",
    "    \n",
    "    #Criando uma lista com os produtos para comparar os preços:\n",
    "    lista_precos = [(preco_amazon, 'Amazon'), (preco_lame, 'Lojas Americanas'), (preco_mglu, 'Magazine Luiza'), (preco_original, 'Original')]\n",
    "    \n",
    "    #Ordenando os preços do menor para o maior:\n",
    "    lista_precos.sort()\n",
    "        \n",
    "    #Preenchendo os dados de preço atual e local:\n",
    "    produtos.loc[i, 'Preço Atual'] = lista_precos[0][0]\n",
    "    produtos.loc[i, 'Local'] = lista_precos[0][1]\n",
    "    \n",
    "    #Criando a condição para envio do email:\n",
    "    if lista_precos[0][0] <= preco_original*(1-desconto_min):\n",
    "        enviar_email = True\n",
    "\n",
    "#Salvar arquivo:\n",
    "produtos.to_excel('Produtos.xlsx')\n",
    "\n",
    "#Enviar e-mail, caso o desconto do produto for igual ou acima de 20%:\n",
    "outlook = win32.Dispatch('outlook.application')\n",
    "if enviar_email:\n",
    "    #enviar e-mail:\n",
    "    mail = outlook.CreateItem(0)  #Este cria o e-mail\n",
    "    mail.To = 'carvalhol.amt+compras@gmail.com'\n",
    "    mail.Subject = f'Produto(s) Encontrado(s) com mais de {desconto_min:.0%} de Desconto'\n",
    "    \n",
    "    #Filtrar a tabela de produtos:\n",
    "    tabela_filtrada = produtos.loc[produtos['Preço Atual'] <= produtos['Preço Original']*(1-desconto_min), :]\n",
    "    \n",
    "    mail.HTMLBody = f'<p>Estes são os produtos com mais de {desconto_min:.0%} de desconto:</p>{tabela_filtrada.to_html()}'\n",
    "    # Não haverá anexos, pois o link do produto irá no corpo do e-mail.\n",
    "    mail.Send()\n",
    "\n",
    "#Finalizando o código:\n",
    "print('Fim da Análise.')\n",
    "#Fechando o navegador:\n",
    "driver.quit()\n",
    "\n"
   ]
  }
 ],
 "metadata": {
  "kernelspec": {
   "display_name": "Python 3",
   "language": "python",
   "name": "python3"
  },
  "language_info": {
   "codemirror_mode": {
    "name": "ipython",
    "version": 3
   },
   "file_extension": ".py",
   "mimetype": "text/x-python",
   "name": "python",
   "nbconvert_exporter": "python",
   "pygments_lexer": "ipython3",
   "version": "3.8.5"
  }
 },
 "nbformat": 4,
 "nbformat_minor": 4
}
